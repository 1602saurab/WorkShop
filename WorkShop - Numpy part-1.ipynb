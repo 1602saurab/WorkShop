{
  "nbformat": 4,
  "nbformat_minor": 0,
  "metadata": {
    "colab": {
      "provenance": []
    },
    "kernelspec": {
      "name": "python3",
      "display_name": "Python 3"
    },
    "language_info": {
      "name": "python"
    }
  },
  "cells": [
    {
      "cell_type": "code",
      "execution_count": 1,
      "metadata": {
        "id": "H2xHARlaOhV-"
      },
      "outputs": [],
      "source": [
        "# (1). NumPy\n",
        "\n",
        "# (2). Pandas"
      ]
    },
    {
      "cell_type": "code",
      "source": [
        "# Cell ==> Execute ==> Cntrl + Enter\n",
        "\n",
        "# Cell ==> Execute the previous cell and create a new cell ==> Shift + Enter"
      ],
      "metadata": {
        "id": "bmeShrNNO2_4"
      },
      "execution_count": 2,
      "outputs": []
    },
    {
      "cell_type": "code",
      "source": [
        "# NumPy ==>  Numerical Python ==> It is a scintific Library\n",
        "\n",
        "# List ==>  elements different -different dtypes ==> time consuming ==> not have more\n",
        "# methods and functions\n",
        "\n",
        "# NumPy ==> Elements ==> Array format ==> less time consuming and have more methods\n",
        "#  and functions as compare to list .\n"
      ],
      "metadata": {
        "id": "VTLm0PUaPJJC"
      },
      "execution_count": 3,
      "outputs": []
    },
    {
      "cell_type": "code",
      "source": [
        "# Python ==> 5% discover ==> contine research"
      ],
      "metadata": {
        "id": "PcSkT6iZQM0E"
      },
      "execution_count": 4,
      "outputs": []
    },
    {
      "cell_type": "code",
      "source": [
        "import numpy as np"
      ],
      "metadata": {
        "id": "k6m1nvQ6QivQ"
      },
      "execution_count": 5,
      "outputs": []
    },
    {
      "cell_type": "markdown",
      "source": [
        "One Dimensional Array"
      ],
      "metadata": {
        "id": "PQYdLH7NQxSx"
      }
    },
    {
      "cell_type": "code",
      "source": [
        "a = [1,2,3,67,89]\n",
        "type(a)"
      ],
      "metadata": {
        "colab": {
          "base_uri": "https://localhost:8080/"
        },
        "id": "aaYt1Gz4Qp1P",
        "outputId": "e5e72f4d-4e54-4a5c-d066-cf01f57d3f91"
      },
      "execution_count": 6,
      "outputs": [
        {
          "output_type": "execute_result",
          "data": {
            "text/plain": [
              "list"
            ]
          },
          "metadata": {},
          "execution_count": 6
        }
      ]
    },
    {
      "cell_type": "code",
      "source": [
        "b = np.array(a)\n",
        "b"
      ],
      "metadata": {
        "colab": {
          "base_uri": "https://localhost:8080/"
        },
        "id": "bi99xMUJQ4Kk",
        "outputId": "de643599-36c5-464d-d4e5-31f9945ac2bd"
      },
      "execution_count": 7,
      "outputs": [
        {
          "output_type": "execute_result",
          "data": {
            "text/plain": [
              "array([ 1,  2,  3, 67, 89])"
            ]
          },
          "metadata": {},
          "execution_count": 7
        }
      ]
    },
    {
      "cell_type": "markdown",
      "source": [
        "How to create a user defined Array"
      ],
      "metadata": {
        "id": "rIsrWqfWRGhA"
      }
    },
    {
      "cell_type": "code",
      "source": [
        "a = []\n",
        "size = int(input(\"Enter size:\"))\n",
        "for i in range(size):\n",
        "  val = int(input(\"Enter Number:\"))\n",
        "  a.append(val)\n",
        "\n",
        "# print(a)\n",
        "c = np.array(a)\n",
        "c"
      ],
      "metadata": {
        "colab": {
          "base_uri": "https://localhost:8080/"
        },
        "id": "Fq43swzEQ9hU",
        "outputId": "53ec0a6a-334b-47e4-f676-c069a900a1df"
      },
      "execution_count": 9,
      "outputs": [
        {
          "name": "stdout",
          "output_type": "stream",
          "text": [
            "Enter size:4\n",
            "Enter Number:12333\n",
            "Enter Number:53222\n",
            "Enter Number:7888\n",
            "Enter Number:9544\n"
          ]
        },
        {
          "output_type": "execute_result",
          "data": {
            "text/plain": [
              "array([12333, 53222,  7888,  9544])"
            ]
          },
          "metadata": {},
          "execution_count": 9
        }
      ]
    },
    {
      "cell_type": "code",
      "source": [],
      "metadata": {
        "id": "2AfQV2YuRpqi"
      },
      "execution_count": null,
      "outputs": []
    },
    {
      "cell_type": "markdown",
      "source": [
        "How to check size and dimension of an array ?"
      ],
      "metadata": {
        "id": "mMfZRGmNSGRy"
      }
    },
    {
      "cell_type": "code",
      "source": [
        "a = np.array([1,45,78,90])\n",
        "a"
      ],
      "metadata": {
        "colab": {
          "base_uri": "https://localhost:8080/"
        },
        "id": "Uqs_CXR0SLAL",
        "outputId": "4cdc9fbc-d099-4afa-dc79-fa8c8c784c9a"
      },
      "execution_count": 10,
      "outputs": [
        {
          "output_type": "execute_result",
          "data": {
            "text/plain": [
              "array([ 1, 45, 78, 90])"
            ]
          },
          "metadata": {},
          "execution_count": 10
        }
      ]
    },
    {
      "cell_type": "code",
      "source": [
        "print(\"Total Dimesion = \" , a.ndim)\n",
        "print(\"Shape of this array  = \" , a.size)"
      ],
      "metadata": {
        "colab": {
          "base_uri": "https://localhost:8080/"
        },
        "id": "AgQ-ulhiSPvT",
        "outputId": "a8f593b9-7f88-4472-c3f7-3452a23df9eb"
      },
      "execution_count": 17,
      "outputs": [
        {
          "output_type": "stream",
          "name": "stdout",
          "text": [
            "Total Dimesion =  1\n",
            "Shape of this array  =  4\n"
          ]
        }
      ]
    },
    {
      "cell_type": "code",
      "source": [
        "a = [[1,2,3] , [4,5,6] , [7,8,9]]\n",
        "b=  np.array(a)\n",
        "b"
      ],
      "metadata": {
        "colab": {
          "base_uri": "https://localhost:8080/"
        },
        "id": "Ks5ucc_jSUSz",
        "outputId": "83c76b5d-9a29-40ee-bb83-5bff6135ee1e"
      },
      "execution_count": 18,
      "outputs": [
        {
          "output_type": "execute_result",
          "data": {
            "text/plain": [
              "array([[1, 2, 3],\n",
              "       [4, 5, 6],\n",
              "       [7, 8, 9]])"
            ]
          },
          "metadata": {},
          "execution_count": 18
        }
      ]
    },
    {
      "cell_type": "code",
      "source": [
        "print(\"Total Dimesion = \" , b.ndim)\n",
        "print(\"Shape of this array  = \" , b.shape)\n",
        "print(\"Total Elements in this array = \" , b.size)"
      ],
      "metadata": {
        "colab": {
          "base_uri": "https://localhost:8080/"
        },
        "id": "Ql3HWT2wSbXa",
        "outputId": "08920e68-1b6d-47ef-ae70-8d5051c5e97a"
      },
      "execution_count": 23,
      "outputs": [
        {
          "output_type": "stream",
          "name": "stdout",
          "text": [
            "Total Dimesion =  2\n",
            "Shape of this array  =  (3, 3)\n",
            "Total Elements in this array =  9\n"
          ]
        }
      ]
    },
    {
      "cell_type": "code",
      "source": [],
      "metadata": {
        "id": "QOUPjNVFTRkX"
      },
      "execution_count": null,
      "outputs": []
    },
    {
      "cell_type": "markdown",
      "source": [
        "Total Elements = n(rows) * n(columns)"
      ],
      "metadata": {
        "id": "PLG8P1tmTk-4"
      }
    },
    {
      "cell_type": "code",
      "source": [
        "# NumPy Functions"
      ],
      "metadata": {
        "id": "F5X29bp4ToDz"
      },
      "execution_count": 24,
      "outputs": []
    },
    {
      "cell_type": "code",
      "source": [
        "# Images ==> pixels format ==> ppi (pixel per inch)\n",
        "\n",
        "# 0 px ==> Complete Black\n",
        "\n",
        "# 255 px ==> Complete white\n",
        "\n",
        "# Images Gray Scale ==> 127.5\n",
        "\n",
        "# Normalize ==> 0-1 (minimum pixel value = 0 , maximum pixel value = 1)"
      ],
      "metadata": {
        "id": "XFtMGD66Tz0M"
      },
      "execution_count": 25,
      "outputs": []
    },
    {
      "cell_type": "code",
      "source": [],
      "metadata": {
        "id": "3XH6_MnMUcFs"
      },
      "execution_count": null,
      "outputs": []
    },
    {
      "cell_type": "markdown",
      "source": [
        "(1). zeros() ==> This function creates an array (either one dimensional or multi-dimensional) and fill all the values with zero ."
      ],
      "metadata": {
        "id": "j57WKIYrUoRu"
      }
    },
    {
      "cell_type": "code",
      "source": [
        "a = np.zeros(5)\n",
        "a"
      ],
      "metadata": {
        "colab": {
          "base_uri": "https://localhost:8080/"
        },
        "id": "uJQo0ERiVJqL",
        "outputId": "7be705c3-b676-4e16-b3d8-340bd1d948e3"
      },
      "execution_count": 26,
      "outputs": [
        {
          "output_type": "execute_result",
          "data": {
            "text/plain": [
              "array([0., 0., 0., 0., 0.])"
            ]
          },
          "metadata": {},
          "execution_count": 26
        }
      ]
    },
    {
      "cell_type": "code",
      "source": [
        "a.size"
      ],
      "metadata": {
        "colab": {
          "base_uri": "https://localhost:8080/"
        },
        "id": "gsMlPSqFVO-A",
        "outputId": "801c1cac-f532-4faf-dec7-1eb2a8b41e3b"
      },
      "execution_count": 30,
      "outputs": [
        {
          "output_type": "execute_result",
          "data": {
            "text/plain": [
              "5"
            ]
          },
          "metadata": {},
          "execution_count": 30
        }
      ]
    },
    {
      "cell_type": "code",
      "source": [
        "b = np.zeros((2,3))\n",
        "b"
      ],
      "metadata": {
        "colab": {
          "base_uri": "https://localhost:8080/"
        },
        "id": "NzXyuQsHVWF7",
        "outputId": "fd30621f-06be-4307-833b-5f45cf9030d7"
      },
      "execution_count": 31,
      "outputs": [
        {
          "output_type": "execute_result",
          "data": {
            "text/plain": [
              "array([[0., 0., 0.],\n",
              "       [0., 0., 0.]])"
            ]
          },
          "metadata": {},
          "execution_count": 31
        }
      ]
    },
    {
      "cell_type": "code",
      "source": [],
      "metadata": {
        "id": "n9vE3QzcXOkD"
      },
      "execution_count": null,
      "outputs": []
    },
    {
      "cell_type": "markdown",
      "source": [
        "(2). Ones() ==> This function creates an array (either one dimensional or multi dimensional) and fill all the values with one ."
      ],
      "metadata": {
        "id": "yFzEuSW-XZ_Y"
      }
    },
    {
      "cell_type": "code",
      "source": [
        "a = np.ones(5)\n",
        "a"
      ],
      "metadata": {
        "colab": {
          "base_uri": "https://localhost:8080/"
        },
        "id": "UBILj_pOXksA",
        "outputId": "8e44c7b2-cdc7-4c32-c7f8-cc8566492f37"
      },
      "execution_count": 32,
      "outputs": [
        {
          "output_type": "execute_result",
          "data": {
            "text/plain": [
              "array([1., 1., 1., 1., 1.])"
            ]
          },
          "metadata": {},
          "execution_count": 32
        }
      ]
    },
    {
      "cell_type": "code",
      "source": [
        "b = np.ones((2,3))\n",
        "b"
      ],
      "metadata": {
        "colab": {
          "base_uri": "https://localhost:8080/"
        },
        "id": "dBW7dAS1XoHU",
        "outputId": "6dee9133-3d06-4d88-ab49-67a5c9f71d29"
      },
      "execution_count": 33,
      "outputs": [
        {
          "output_type": "execute_result",
          "data": {
            "text/plain": [
              "array([[1., 1., 1.],\n",
              "       [1., 1., 1.]])"
            ]
          },
          "metadata": {},
          "execution_count": 33
        }
      ]
    },
    {
      "cell_type": "code",
      "source": [],
      "metadata": {
        "id": "aJu0kvq7Xtab"
      },
      "execution_count": null,
      "outputs": []
    },
    {
      "cell_type": "markdown",
      "source": [
        "(3). eye() ==> This function creates an array with all the digonal elements as 1 and rest all are 0 (In Square matrix). In Non-Square matrix the values are still one for digonal elements and rest all are zero ."
      ],
      "metadata": {
        "id": "0RkJd5_yYLH5"
      }
    },
    {
      "cell_type": "code",
      "source": [
        "# Square matrix ===> n(rows) = n(columns)\n",
        "# Non-square Matrix ==> n(rows) != n(columns)"
      ],
      "metadata": {
        "id": "njF2p8yyYjb8"
      },
      "execution_count": 34,
      "outputs": []
    },
    {
      "cell_type": "code",
      "source": [
        "import numpy as np"
      ],
      "metadata": {
        "id": "G1rKwbcVZN40"
      },
      "execution_count": 38,
      "outputs": []
    },
    {
      "cell_type": "code",
      "source": [
        "a = np.eye(3,4)\n",
        "a"
      ],
      "metadata": {
        "colab": {
          "base_uri": "https://localhost:8080/"
        },
        "id": "li0ziu-RYu1n",
        "outputId": "7a5dc5ed-f8ba-48e7-a8a3-c2c82f5403d3"
      },
      "execution_count": 36,
      "outputs": [
        {
          "output_type": "execute_result",
          "data": {
            "text/plain": [
              "array([[1., 0., 0., 0.],\n",
              "       [0., 1., 0., 0.],\n",
              "       [0., 0., 1., 0.]])"
            ]
          },
          "metadata": {},
          "execution_count": 36
        }
      ]
    },
    {
      "cell_type": "code",
      "source": [
        "a = np.eye(4,4)\n",
        "a"
      ],
      "metadata": {
        "colab": {
          "base_uri": "https://localhost:8080/"
        },
        "id": "19KlOEaMY0Ow",
        "outputId": "24ba461e-b19b-4d80-cbcc-1fdeea67aaef"
      },
      "execution_count": 37,
      "outputs": [
        {
          "output_type": "execute_result",
          "data": {
            "text/plain": [
              "array([[1., 0., 0., 0.],\n",
              "       [0., 1., 0., 0.],\n",
              "       [0., 0., 1., 0.],\n",
              "       [0., 0., 0., 1.]])"
            ]
          },
          "metadata": {},
          "execution_count": 37
        }
      ]
    },
    {
      "cell_type": "code",
      "source": [],
      "metadata": {
        "id": "rvmp_9LeZE9T"
      },
      "execution_count": null,
      "outputs": []
    },
    {
      "cell_type": "markdown",
      "source": [
        "(4). diag() ==> This function creates an array in which we can pass custom array on digonal position and rest all are zero ."
      ],
      "metadata": {
        "id": "pY58sfN5ZggE"
      }
    },
    {
      "cell_type": "code",
      "source": [
        "a = np.array([45,78,90,233])\n",
        "a"
      ],
      "metadata": {
        "colab": {
          "base_uri": "https://localhost:8080/"
        },
        "id": "PPL7eygmZuHy",
        "outputId": "44b019df-54ae-4bc6-89a4-b5110834eb76"
      },
      "execution_count": 39,
      "outputs": [
        {
          "output_type": "execute_result",
          "data": {
            "text/plain": [
              "array([ 45,  78,  90, 233])"
            ]
          },
          "metadata": {},
          "execution_count": 39
        }
      ]
    },
    {
      "cell_type": "code",
      "source": [
        "np.diag(a)"
      ],
      "metadata": {
        "colab": {
          "base_uri": "https://localhost:8080/"
        },
        "id": "duPue1YZZxux",
        "outputId": "e52ad74d-81e2-4251-f0f4-58ad458b5cce"
      },
      "execution_count": 40,
      "outputs": [
        {
          "output_type": "execute_result",
          "data": {
            "text/plain": [
              "array([[ 45,   0,   0,   0],\n",
              "       [  0,  78,   0,   0],\n",
              "       [  0,   0,  90,   0],\n",
              "       [  0,   0,   0, 233]])"
            ]
          },
          "metadata": {},
          "execution_count": 40
        }
      ]
    },
    {
      "cell_type": "code",
      "source": [],
      "metadata": {
        "id": "X--z_U-PZ0v-"
      },
      "execution_count": null,
      "outputs": []
    },
    {
      "cell_type": "markdown",
      "source": [
        "(5). Random Module ==>\n",
        "\n",
        "(a). Randint() ==> It is used to generate random number between a given range .\n",
        "\n",
        "syntax : np.random.randint(min_value , max_value , total_numbers)\n",
        "\n",
        "(b). Rand() ==> It is used to generate random numbers between 0 to 1 .\n",
        "\n",
        "syntax : np.random.rand(number of values)\n",
        "\n",
        "(c). Randn() ==> It is used to generate random numbers between -7 to +7 .\n",
        "\n",
        "syntax : np.random.randn(number of values)"
      ],
      "metadata": {
        "id": "v6QAuncfaov-"
      }
    },
    {
      "cell_type": "code",
      "source": [
        "a = np.random.randint(1,10,3)\n",
        "a"
      ],
      "metadata": {
        "colab": {
          "base_uri": "https://localhost:8080/"
        },
        "id": "svVAI4R9bSul",
        "outputId": "49a098a8-0921-4312-faa3-192d3e2a0ba4"
      },
      "execution_count": 60,
      "outputs": [
        {
          "output_type": "execute_result",
          "data": {
            "text/plain": [
              "array([3, 3, 1])"
            ]
          },
          "metadata": {},
          "execution_count": 60
        }
      ]
    },
    {
      "cell_type": "code",
      "source": [
        "b = np.random.rand(5)\n",
        "b"
      ],
      "metadata": {
        "colab": {
          "base_uri": "https://localhost:8080/"
        },
        "id": "yiqqELktbtgZ",
        "outputId": "bb3d2c7c-6d78-40d2-d8d2-4ad0cd207b13"
      },
      "execution_count": 47,
      "outputs": [
        {
          "output_type": "execute_result",
          "data": {
            "text/plain": [
              "array([0.22567609, 0.51231196, 0.0450659 , 0.06088947, 0.32573889])"
            ]
          },
          "metadata": {},
          "execution_count": 47
        }
      ]
    },
    {
      "cell_type": "code",
      "source": [
        "c = np.random.randn(4)\n",
        "c"
      ],
      "metadata": {
        "colab": {
          "base_uri": "https://localhost:8080/"
        },
        "id": "Av3YF46Mb2ag",
        "outputId": "bde742fd-5f6f-4d15-b41b-34042a402064"
      },
      "execution_count": 50,
      "outputs": [
        {
          "output_type": "execute_result",
          "data": {
            "text/plain": [
              "array([-1.31982506, -0.2114556 , -1.80212788, -0.33039156])"
            ]
          },
          "metadata": {},
          "execution_count": 50
        }
      ]
    },
    {
      "cell_type": "code",
      "source": [],
      "metadata": {
        "id": "Dze38EN-cGYe"
      },
      "execution_count": null,
      "outputs": []
    },
    {
      "cell_type": "markdown",
      "source": [
        "Reshaping Data"
      ],
      "metadata": {
        "id": "hAzvfWK7dIrN"
      }
    },
    {
      "cell_type": "markdown",
      "source": [
        "n(rows) * n(columns) = n(Total_Elements)"
      ],
      "metadata": {
        "id": "zDE7oqH3dMe0"
      }
    },
    {
      "cell_type": "markdown",
      "source": [
        "n(rows) = n(Total_Elements)/n(columns)\n",
        "\n",
        "n(columns) = n(Total_Elements)/n(rows)"
      ],
      "metadata": {
        "id": "HaCzDaTpdUVJ"
      }
    },
    {
      "cell_type": "code",
      "source": [
        "a = np.random.randint(1,50,12)\n",
        "a"
      ],
      "metadata": {
        "colab": {
          "base_uri": "https://localhost:8080/"
        },
        "id": "E8xIJTjQdRdp",
        "outputId": "788b2ada-cf0d-43cf-c9ff-2e7348a68522"
      },
      "execution_count": 51,
      "outputs": [
        {
          "output_type": "execute_result",
          "data": {
            "text/plain": [
              "array([44, 29, 31, 41, 29, 45, 35, 33, 38,  6, 42,  5])"
            ]
          },
          "metadata": {},
          "execution_count": 51
        }
      ]
    },
    {
      "cell_type": "code",
      "source": [
        "a.shape"
      ],
      "metadata": {
        "colab": {
          "base_uri": "https://localhost:8080/"
        },
        "id": "KbGVxaCRdn86",
        "outputId": "5e3e6f24-fc74-4869-97f9-adc0d2070b0d"
      },
      "execution_count": 52,
      "outputs": [
        {
          "output_type": "execute_result",
          "data": {
            "text/plain": [
              "(12,)"
            ]
          },
          "metadata": {},
          "execution_count": 52
        }
      ]
    },
    {
      "cell_type": "code",
      "source": [
        "# 1*12 , 12*1\n",
        "\n",
        "# 2*6 , 6*2\n",
        "\n",
        "# 3*4 , 4*3"
      ],
      "metadata": {
        "id": "1EYyYAzKdskv"
      },
      "execution_count": 53,
      "outputs": []
    },
    {
      "cell_type": "code",
      "source": [
        "a.reshape(2,6)"
      ],
      "metadata": {
        "colab": {
          "base_uri": "https://localhost:8080/"
        },
        "id": "OuMnDhVSd7t-",
        "outputId": "f072a9fe-dcf5-458c-8e45-f7a39dec677c"
      },
      "execution_count": 54,
      "outputs": [
        {
          "output_type": "execute_result",
          "data": {
            "text/plain": [
              "array([[44, 29, 31, 41, 29, 45],\n",
              "       [35, 33, 38,  6, 42,  5]])"
            ]
          },
          "metadata": {},
          "execution_count": 54
        }
      ]
    },
    {
      "cell_type": "code",
      "source": [
        "a.reshape(6,2)"
      ],
      "metadata": {
        "colab": {
          "base_uri": "https://localhost:8080/"
        },
        "id": "pNPrTwl1d-tt",
        "outputId": "2ca236e3-fed8-4757-e757-af77b80737b8"
      },
      "execution_count": 55,
      "outputs": [
        {
          "output_type": "execute_result",
          "data": {
            "text/plain": [
              "array([[44, 29],\n",
              "       [31, 41],\n",
              "       [29, 45],\n",
              "       [35, 33],\n",
              "       [38,  6],\n",
              "       [42,  5]])"
            ]
          },
          "metadata": {},
          "execution_count": 55
        }
      ]
    },
    {
      "cell_type": "code",
      "source": [
        "a.reshape(3,4)"
      ],
      "metadata": {
        "colab": {
          "base_uri": "https://localhost:8080/"
        },
        "id": "09jbvlA0eCF2",
        "outputId": "77b8a722-55d5-456d-ceea-3ea166904d87"
      },
      "execution_count": 56,
      "outputs": [
        {
          "output_type": "execute_result",
          "data": {
            "text/plain": [
              "array([[44, 29, 31, 41],\n",
              "       [29, 45, 35, 33],\n",
              "       [38,  6, 42,  5]])"
            ]
          },
          "metadata": {},
          "execution_count": 56
        }
      ]
    },
    {
      "cell_type": "code",
      "source": [
        "a.reshape(4,3)"
      ],
      "metadata": {
        "colab": {
          "base_uri": "https://localhost:8080/"
        },
        "id": "hu4XASwJeEoR",
        "outputId": "1aa057f4-c065-4dec-e6ad-77f7f8bda338"
      },
      "execution_count": 57,
      "outputs": [
        {
          "output_type": "execute_result",
          "data": {
            "text/plain": [
              "array([[44, 29, 31],\n",
              "       [41, 29, 45],\n",
              "       [35, 33, 38],\n",
              "       [ 6, 42,  5]])"
            ]
          },
          "metadata": {},
          "execution_count": 57
        }
      ]
    },
    {
      "cell_type": "code",
      "source": [
        "a.reshape(3,4)"
      ],
      "metadata": {
        "colab": {
          "base_uri": "https://localhost:8080/"
        },
        "id": "n27-9oKVeGet",
        "outputId": "b7fc730e-0c27-45be-cc38-9893c0df8b41"
      },
      "execution_count": 59,
      "outputs": [
        {
          "output_type": "execute_result",
          "data": {
            "text/plain": [
              "array([[44, 29, 31, 41],\n",
              "       [29, 45, 35, 33],\n",
              "       [38,  6, 42,  5]])"
            ]
          },
          "metadata": {},
          "execution_count": 59
        }
      ]
    },
    {
      "cell_type": "markdown",
      "source": [
        "Data ==> shift+ enter ==> randomly update ==> dataset (dummy data create random module) ==> model performance 80-90% ==> but shift + enter (refresh) ==> data update ==> Performance 60-70%"
      ],
      "metadata": {
        "id": "LP7Z6dRPe8UJ"
      }
    },
    {
      "cell_type": "code",
      "source": [],
      "metadata": {
        "id": "2zNAxChreIow"
      },
      "execution_count": null,
      "outputs": []
    },
    {
      "cell_type": "markdown",
      "source": [
        "seed() ==> It will fix our random data ."
      ],
      "metadata": {
        "id": "bllJuh9YfX8V"
      }
    },
    {
      "cell_type": "code",
      "source": [
        "np.random.seed(20)\n",
        "a = np.random.randint(1,10,3)\n",
        "a"
      ],
      "metadata": {
        "colab": {
          "base_uri": "https://localhost:8080/"
        },
        "id": "7PLZdB0Pffkl",
        "outputId": "08c640a6-d934-44ec-e20a-7959659b8a08"
      },
      "execution_count": 75,
      "outputs": [
        {
          "output_type": "execute_result",
          "data": {
            "text/plain": [
              "array([4, 5, 7])"
            ]
          },
          "metadata": {},
          "execution_count": 75
        }
      ]
    },
    {
      "cell_type": "markdown",
      "source": [
        "View Vs Copy ==>"
      ],
      "metadata": {
        "id": "Lp7TLJl6gJOH"
      }
    },
    {
      "cell_type": "code",
      "source": [
        "a = np.array([10,20,30,40,50,60,70,80])\n",
        "b=  a[3:6]  #3,4,5 indexed element = 40,50,60\n",
        "b[:] = 0\n",
        "a"
      ],
      "metadata": {
        "colab": {
          "base_uri": "https://localhost:8080/"
        },
        "id": "jYcFY8sjfnVE",
        "outputId": "f67281ad-ef11-4491-fd49-85e55b823d09"
      },
      "execution_count": 78,
      "outputs": [
        {
          "output_type": "execute_result",
          "data": {
            "text/plain": [
              "array([10, 20, 30,  0,  0,  0, 70, 80])"
            ]
          },
          "metadata": {},
          "execution_count": 78
        }
      ]
    },
    {
      "cell_type": "code",
      "source": [
        "a = np.array([10,20,30,40,50,60,70,80])\n",
        "b = a[3:6].copy()\n",
        "b[:] = 0\n",
        "a"
      ],
      "metadata": {
        "colab": {
          "base_uri": "https://localhost:8080/"
        },
        "id": "F8igHAnxgaEv",
        "outputId": "0a315437-7518-4ee4-b04a-d4f2921def92"
      },
      "execution_count": 79,
      "outputs": [
        {
          "output_type": "execute_result",
          "data": {
            "text/plain": [
              "array([10, 20, 30, 40, 50, 60, 70, 80])"
            ]
          },
          "metadata": {},
          "execution_count": 79
        }
      ]
    },
    {
      "cell_type": "code",
      "source": [],
      "metadata": {
        "id": "5C5eDblPgnGg"
      },
      "execution_count": null,
      "outputs": []
    },
    {
      "cell_type": "markdown",
      "source": [
        "Conditional Selection in Numpy"
      ],
      "metadata": {
        "id": "RVA9txmeg9mS"
      }
    },
    {
      "cell_type": "code",
      "source": [
        "a = np.arange(1,16)\n",
        "a"
      ],
      "metadata": {
        "colab": {
          "base_uri": "https://localhost:8080/"
        },
        "id": "Eef3yzQwhBHN",
        "outputId": "187a6c3a-f03d-4180-8139-a61a6269d556"
      },
      "execution_count": 80,
      "outputs": [
        {
          "output_type": "execute_result",
          "data": {
            "text/plain": [
              "array([ 1,  2,  3,  4,  5,  6,  7,  8,  9, 10, 11, 12, 13, 14, 15])"
            ]
          },
          "metadata": {},
          "execution_count": 80
        }
      ]
    },
    {
      "cell_type": "code",
      "source": [
        "a>10"
      ],
      "metadata": {
        "colab": {
          "base_uri": "https://localhost:8080/"
        },
        "id": "DkQyDRxjhExX",
        "outputId": "011882ad-7aab-4068-efa9-5665fd93e9ed"
      },
      "execution_count": 81,
      "outputs": [
        {
          "output_type": "execute_result",
          "data": {
            "text/plain": [
              "array([False, False, False, False, False, False, False, False, False,\n",
              "       False,  True,  True,  True,  True,  True])"
            ]
          },
          "metadata": {},
          "execution_count": 81
        }
      ]
    },
    {
      "cell_type": "code",
      "source": [
        "b = a>10\n",
        "a[b]"
      ],
      "metadata": {
        "colab": {
          "base_uri": "https://localhost:8080/"
        },
        "id": "J9HRHlTshGu1",
        "outputId": "b9730607-43ed-49b5-8382-eb8a6f6b447c"
      },
      "execution_count": 82,
      "outputs": [
        {
          "output_type": "execute_result",
          "data": {
            "text/plain": [
              "array([11, 12, 13, 14, 15])"
            ]
          },
          "metadata": {},
          "execution_count": 82
        }
      ]
    },
    {
      "cell_type": "code",
      "source": [
        "a[a%2==0]"
      ],
      "metadata": {
        "colab": {
          "base_uri": "https://localhost:8080/"
        },
        "id": "Gx982cnjhLQw",
        "outputId": "f7b662d7-d70d-4fe1-8d75-b57f68630474"
      },
      "execution_count": 83,
      "outputs": [
        {
          "output_type": "execute_result",
          "data": {
            "text/plain": [
              "array([ 2,  4,  6,  8, 10, 12, 14])"
            ]
          },
          "metadata": {},
          "execution_count": 83
        }
      ]
    },
    {
      "cell_type": "markdown",
      "source": [
        "Operations on Array"
      ],
      "metadata": {
        "id": "abwjRvRrh_2B"
      }
    },
    {
      "cell_type": "code",
      "source": [
        "a = np.arange(1,5)\n",
        "a"
      ],
      "metadata": {
        "colab": {
          "base_uri": "https://localhost:8080/"
        },
        "id": "vdXNboDMhPH0",
        "outputId": "c8a9fc91-2405-494e-be10-5ad3de82adb4"
      },
      "execution_count": 84,
      "outputs": [
        {
          "output_type": "execute_result",
          "data": {
            "text/plain": [
              "array([1, 2, 3, 4])"
            ]
          },
          "metadata": {},
          "execution_count": 84
        }
      ]
    },
    {
      "cell_type": "code",
      "source": [
        "a+2"
      ],
      "metadata": {
        "colab": {
          "base_uri": "https://localhost:8080/"
        },
        "id": "TwgVsCUNiDAs",
        "outputId": "b7ae5642-4be1-4769-93f0-ba3f0d7f76f8"
      },
      "execution_count": 85,
      "outputs": [
        {
          "output_type": "execute_result",
          "data": {
            "text/plain": [
              "array([3, 4, 5, 6])"
            ]
          },
          "metadata": {},
          "execution_count": 85
        }
      ]
    },
    {
      "cell_type": "code",
      "source": [
        "a**2"
      ],
      "metadata": {
        "colab": {
          "base_uri": "https://localhost:8080/"
        },
        "id": "if58UGfiiEz2",
        "outputId": "37969715-2bdb-46f3-a102-870e6ab4e27c"
      },
      "execution_count": 86,
      "outputs": [
        {
          "output_type": "execute_result",
          "data": {
            "text/plain": [
              "array([ 1,  4,  9, 16])"
            ]
          },
          "metadata": {},
          "execution_count": 86
        }
      ]
    },
    {
      "cell_type": "code",
      "source": [
        "a = np.array([1,2,3,4]).reshape(2,2)\n",
        "b = np.array([5,6,7,8]).reshape(2,2)\n"
      ],
      "metadata": {
        "id": "psddtJP7iIb_"
      },
      "execution_count": 87,
      "outputs": []
    },
    {
      "cell_type": "code",
      "source": [
        "a"
      ],
      "metadata": {
        "colab": {
          "base_uri": "https://localhost:8080/"
        },
        "id": "IyaWaQTLiVwv",
        "outputId": "b838767b-c21d-4d24-bf1a-3574c23b15a4"
      },
      "execution_count": 88,
      "outputs": [
        {
          "output_type": "execute_result",
          "data": {
            "text/plain": [
              "array([[1, 2],\n",
              "       [3, 4]])"
            ]
          },
          "metadata": {},
          "execution_count": 88
        }
      ]
    },
    {
      "cell_type": "code",
      "source": [
        "b"
      ],
      "metadata": {
        "colab": {
          "base_uri": "https://localhost:8080/"
        },
        "id": "KD2RiH19iWd1",
        "outputId": "c470b6d8-3206-48e6-8f5c-2be90c960571"
      },
      "execution_count": 89,
      "outputs": [
        {
          "output_type": "execute_result",
          "data": {
            "text/plain": [
              "array([[5, 6],\n",
              "       [7, 8]])"
            ]
          },
          "metadata": {},
          "execution_count": 89
        }
      ]
    },
    {
      "cell_type": "code",
      "source": [
        "a+b"
      ],
      "metadata": {
        "colab": {
          "base_uri": "https://localhost:8080/"
        },
        "id": "d_SGpuoWiWrb",
        "outputId": "3690317d-6b60-4de4-c9e2-fc395d705e3c"
      },
      "execution_count": 90,
      "outputs": [
        {
          "output_type": "execute_result",
          "data": {
            "text/plain": [
              "array([[ 6,  8],\n",
              "       [10, 12]])"
            ]
          },
          "metadata": {},
          "execution_count": 90
        }
      ]
    },
    {
      "cell_type": "code",
      "source": [
        "a-b"
      ],
      "metadata": {
        "colab": {
          "base_uri": "https://localhost:8080/"
        },
        "id": "HLHLw6RCiYzQ",
        "outputId": "2c8dc5ba-430a-40f4-a4bf-7c040f511eb7"
      },
      "execution_count": 91,
      "outputs": [
        {
          "output_type": "execute_result",
          "data": {
            "text/plain": [
              "array([[-4, -4],\n",
              "       [-4, -4]])"
            ]
          },
          "metadata": {},
          "execution_count": 91
        }
      ]
    },
    {
      "cell_type": "code",
      "source": [
        "# matrix ==> multiply  ==> 1 matrix n(column) = 2 matrix n(rows)"
      ],
      "metadata": {
        "id": "_iewxFe-iiPD"
      },
      "execution_count": 92,
      "outputs": []
    },
    {
      "cell_type": "code",
      "source": [
        "a.dot(b)  # dot() returns matrix multiplication of 2 matrix ."
      ],
      "metadata": {
        "colab": {
          "base_uri": "https://localhost:8080/"
        },
        "id": "vfFTTbZ5isVz",
        "outputId": "5b70cb52-2466-4fcf-c956-501196032254"
      },
      "execution_count": 93,
      "outputs": [
        {
          "output_type": "execute_result",
          "data": {
            "text/plain": [
              "array([[19, 22],\n",
              "       [43, 50]])"
            ]
          },
          "metadata": {},
          "execution_count": 93
        }
      ]
    },
    {
      "cell_type": "code",
      "source": [
        "a"
      ],
      "metadata": {
        "colab": {
          "base_uri": "https://localhost:8080/"
        },
        "id": "OKa847QDix6V",
        "outputId": "5407a3c7-8680-4e3f-f062-62a463af758d"
      },
      "execution_count": 94,
      "outputs": [
        {
          "output_type": "execute_result",
          "data": {
            "text/plain": [
              "array([[1, 2],\n",
              "       [3, 4]])"
            ]
          },
          "metadata": {},
          "execution_count": 94
        }
      ]
    },
    {
      "cell_type": "code",
      "source": [
        "np.min(a)"
      ],
      "metadata": {
        "colab": {
          "base_uri": "https://localhost:8080/"
        },
        "id": "VcNdtesNjlun",
        "outputId": "06f87402-686a-490f-946d-01effc5c7059"
      },
      "execution_count": 95,
      "outputs": [
        {
          "output_type": "execute_result",
          "data": {
            "text/plain": [
              "1"
            ]
          },
          "metadata": {},
          "execution_count": 95
        }
      ]
    },
    {
      "cell_type": "code",
      "source": [
        "np.max(a)"
      ],
      "metadata": {
        "colab": {
          "base_uri": "https://localhost:8080/"
        },
        "id": "dXkEau0jjn7N",
        "outputId": "ff8440ed-b0eb-4585-92d3-3158400926dd"
      },
      "execution_count": 96,
      "outputs": [
        {
          "output_type": "execute_result",
          "data": {
            "text/plain": [
              "4"
            ]
          },
          "metadata": {},
          "execution_count": 96
        }
      ]
    },
    {
      "cell_type": "code",
      "source": [
        "np.argmin(a)"
      ],
      "metadata": {
        "colab": {
          "base_uri": "https://localhost:8080/"
        },
        "id": "4Ujd4c1Rjp77",
        "outputId": "0156d702-ae87-4271-c9a9-9a4d206e55e7"
      },
      "execution_count": 97,
      "outputs": [
        {
          "output_type": "execute_result",
          "data": {
            "text/plain": [
              "0"
            ]
          },
          "metadata": {},
          "execution_count": 97
        }
      ]
    },
    {
      "cell_type": "code",
      "source": [
        "np.argmax(a)"
      ],
      "metadata": {
        "colab": {
          "base_uri": "https://localhost:8080/"
        },
        "id": "gUVXHSD7jrrz",
        "outputId": "c825469c-c13b-43a1-df7b-6be1260e32af"
      },
      "execution_count": 98,
      "outputs": [
        {
          "output_type": "execute_result",
          "data": {
            "text/plain": [
              "3"
            ]
          },
          "metadata": {},
          "execution_count": 98
        }
      ]
    },
    {
      "cell_type": "code",
      "source": [
        "np.sqrt(a)"
      ],
      "metadata": {
        "colab": {
          "base_uri": "https://localhost:8080/"
        },
        "id": "Yd4EsxBljtUC",
        "outputId": "9f8afdda-5cbd-435b-a4fe-0bf0f8fc3b79"
      },
      "execution_count": 99,
      "outputs": [
        {
          "output_type": "execute_result",
          "data": {
            "text/plain": [
              "array([[1.        , 1.41421356],\n",
              "       [1.73205081, 2.        ]])"
            ]
          },
          "metadata": {},
          "execution_count": 99
        }
      ]
    },
    {
      "cell_type": "code",
      "source": [
        "np.sin(a)"
      ],
      "metadata": {
        "colab": {
          "base_uri": "https://localhost:8080/"
        },
        "id": "2WIGvQbpkHUR",
        "outputId": "87392d0c-6d11-4ca2-8bd0-99c5c1a65ccf"
      },
      "execution_count": 100,
      "outputs": [
        {
          "output_type": "execute_result",
          "data": {
            "text/plain": [
              "array([[ 0.84147098,  0.90929743],\n",
              "       [ 0.14112001, -0.7568025 ]])"
            ]
          },
          "metadata": {},
          "execution_count": 100
        }
      ]
    },
    {
      "cell_type": "code",
      "source": [
        "np.cos(a)"
      ],
      "metadata": {
        "colab": {
          "base_uri": "https://localhost:8080/"
        },
        "id": "Zp4C3o_akJ3s",
        "outputId": "6bec7917-a500-41c2-dff0-dc172036afbc"
      },
      "execution_count": 101,
      "outputs": [
        {
          "output_type": "execute_result",
          "data": {
            "text/plain": [
              "array([[ 0.54030231, -0.41614684],\n",
              "       [-0.9899925 , -0.65364362]])"
            ]
          },
          "metadata": {},
          "execution_count": 101
        }
      ]
    },
    {
      "cell_type": "markdown",
      "source": [
        "np.unique(arr , return_index = True , return_counts = True)\n",
        "\n",
        "returns 3 array .\n",
        "\n",
        "(1). The array with unique values .\n",
        "(2). The array with respective index value .\n",
        "(3). The array with counting of frequency ."
      ],
      "metadata": {
        "id": "bZyAk4ywkRVM"
      }
    },
    {
      "cell_type": "code",
      "source": [
        "a = np.array([10,20,20,30,20,30,40,50,40,40,50,50,50,50,60,70])\n",
        "np.unique(a , return_index = True , return_counts = True)"
      ],
      "metadata": {
        "colab": {
          "base_uri": "https://localhost:8080/"
        },
        "id": "wkv4eWzbkLrS",
        "outputId": "c7d2507c-b4e4-4ab3-c561-721db1f4a814"
      },
      "execution_count": 102,
      "outputs": [
        {
          "output_type": "execute_result",
          "data": {
            "text/plain": [
              "(array([10, 20, 30, 40, 50, 60, 70]),\n",
              " array([ 0,  1,  3,  6,  7, 14, 15]),\n",
              " array([1, 3, 2, 3, 5, 1, 1]))"
            ]
          },
          "metadata": {},
          "execution_count": 102
        }
      ]
    },
    {
      "cell_type": "code",
      "source": [
        "# Horizontal And Vertical Stacking"
      ],
      "metadata": {
        "id": "Qp_R-hoAkvBj"
      },
      "execution_count": 104,
      "outputs": []
    },
    {
      "cell_type": "code",
      "source": [
        "a = np.array([1,2,3,4])\n",
        "b=  np.array([5,6,7,8])\n",
        "c = np.array([9,10,11,12])"
      ],
      "metadata": {
        "id": "fzKMWX4qlhKE"
      },
      "execution_count": 108,
      "outputs": []
    },
    {
      "cell_type": "code",
      "source": [
        "np.hstack((a,b,c))"
      ],
      "metadata": {
        "colab": {
          "base_uri": "https://localhost:8080/"
        },
        "id": "uDKuqbA_logb",
        "outputId": "44ae0363-091c-4947-839a-dac4efc0fd1e"
      },
      "execution_count": 109,
      "outputs": [
        {
          "output_type": "execute_result",
          "data": {
            "text/plain": [
              "array([ 1,  2,  3,  4,  5,  6,  7,  8,  9, 10, 11, 12])"
            ]
          },
          "metadata": {},
          "execution_count": 109
        }
      ]
    },
    {
      "cell_type": "code",
      "source": [
        "np.vstack((a,b,c))"
      ],
      "metadata": {
        "colab": {
          "base_uri": "https://localhost:8080/"
        },
        "id": "0OPoVIdplrPd",
        "outputId": "a6113db6-b04a-4076-c53f-a6a1bfcbef4d"
      },
      "execution_count": 110,
      "outputs": [
        {
          "output_type": "execute_result",
          "data": {
            "text/plain": [
              "array([[ 1,  2,  3,  4],\n",
              "       [ 5,  6,  7,  8],\n",
              "       [ 9, 10, 11, 12]])"
            ]
          },
          "metadata": {},
          "execution_count": 110
        }
      ]
    },
    {
      "cell_type": "code",
      "source": [],
      "metadata": {
        "id": "mHdeiGFIltwb"
      },
      "execution_count": null,
      "outputs": []
    },
    {
      "cell_type": "markdown",
      "source": [
        "Q.1  Write statement to import NumPy ?\n",
        "\n",
        "\n",
        "Q.2 Create an array of 10 random integers ?\n",
        "\n",
        "\n",
        "Q.3 Create an array in which elements are from 10 - 20 ?\n",
        "\n",
        "\n",
        "Q.4 Create an array which contain values 5 , 10 times ?\n",
        "\n",
        "\n",
        "Q.6 Create a one dimensional array and convert it into 3*3 matrix ?\n",
        "\n",
        "\n",
        "Q.7 Create an array of size 3*3 but all the elements should between 0 to 1 ?"
      ],
      "metadata": {
        "id": "9Xnx_RWXmhnL"
      }
    },
    {
      "cell_type": "code",
      "source": [
        "# step-1  Instant Data Scraper ==> Install this extension\n",
        "\n",
        "# step-2 Go to Flipkart ==> Mobiles ==>click on  extension ==>\n",
        "# click on Instant Data Scraper==> csv or xlsx copy ==> select csv ==> download (local system)\n",
        "\n",
        "# ==> Open in excel  ==> modification"
      ],
      "metadata": {
        "id": "7x6diyl8nC-a"
      },
      "execution_count": 111,
      "outputs": []
    },
    {
      "cell_type": "code",
      "source": [
        "# Pandas ==> Project ==>upload on Github"
      ],
      "metadata": {
        "id": "OTLqkxj-q-f7"
      },
      "execution_count": null,
      "outputs": []
    }
  ]
}