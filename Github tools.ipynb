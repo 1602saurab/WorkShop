{
 "cells": [
  {
   "cell_type": "code",
   "execution_count": 1,
   "id": "50acffad",
   "metadata": {},
   "outputs": [],
   "source": [
    "# Step-1  Create a new folder on Desktop using mkdir command . \n",
    "\n",
    "# mkdir ajay "
   ]
  },
  {
   "cell_type": "code",
   "execution_count": 2,
   "id": "85092ffe",
   "metadata": {},
   "outputs": [],
   "source": [
    "# step-2 After that you have to need to switch your directories using cd command and jump on ajay folder . \n",
    "\n",
    "# cd ajay/ "
   ]
  },
  {
   "cell_type": "code",
   "execution_count": 3,
   "id": "19cfc675",
   "metadata": {},
   "outputs": [],
   "source": [
    "# step-3 After that we can run git init command for initialize our folder from git \n",
    "\n",
    "# git init "
   ]
  },
  {
   "cell_type": "code",
   "execution_count": 4,
   "id": "04f69d33",
   "metadata": {},
   "outputs": [],
   "source": [
    "# step-4 After that we create some new files in ajay folder using touch command . \n",
    "\n",
    "# touch ab.py \n",
    "# touch xyz.py "
   ]
  },
  {
   "cell_type": "code",
   "execution_count": 5,
   "id": "c86c850c",
   "metadata": {},
   "outputs": [],
   "source": [
    "# step-5  After that we can check current status of git \n",
    "\n",
    "# git status "
   ]
  },
  {
   "cell_type": "code",
   "execution_count": 6,
   "id": "0a65cd9d",
   "metadata": {},
   "outputs": [],
   "source": [
    "# step-6 Now we have to need add all files in our git branch using git add . command \n",
    "\n",
    "# git add . \n",
    "\n",
    "# git status "
   ]
  },
  {
   "cell_type": "code",
   "execution_count": 7,
   "id": "4ffa9bf9",
   "metadata": {},
   "outputs": [],
   "source": [
    "# step-7 After that we have to need commit using git commit -m \"added\" command \n",
    "\n",
    "# git commit -m \"added\" "
   ]
  },
  {
   "cell_type": "code",
   "execution_count": 8,
   "id": "c63904fa",
   "metadata": {},
   "outputs": [],
   "source": [
    "# step-8 Noow you have to create account on github and after that create a new repository on github \n",
    "\n",
    "# Name of repository "
   ]
  },
  {
   "cell_type": "code",
   "execution_count": 9,
   "id": "e2f2d17f",
   "metadata": {},
   "outputs": [],
   "source": [
    "# step-9 After that copy remote path and add in our local repository . \n",
    "\n",
    "# git remote add origin https://github.com/saura467/ajay.git "
   ]
  },
  {
   "cell_type": "code",
   "execution_count": 10,
   "id": "c5231450",
   "metadata": {},
   "outputs": [],
   "source": [
    "# step-10 After that push our code using command git push -u origin master/main \n",
    "\n",
    "# git push -u origin master "
   ]
  },
  {
   "cell_type": "code",
   "execution_count": null,
   "id": "ea65b4eb",
   "metadata": {},
   "outputs": [],
   "source": [
    "# Now refresh github page and we will see that our all files are on github . "
   ]
  }
 ],
 "metadata": {
  "kernelspec": {
   "display_name": "Python 3 (ipykernel)",
   "language": "python",
   "name": "python3"
  },
  "language_info": {
   "codemirror_mode": {
    "name": "ipython",
    "version": 3
   },
   "file_extension": ".py",
   "mimetype": "text/x-python",
   "name": "python",
   "nbconvert_exporter": "python",
   "pygments_lexer": "ipython3",
   "version": "3.9.12"
  }
 },
 "nbformat": 4,
 "nbformat_minor": 5
}
